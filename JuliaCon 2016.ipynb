{
 "cells": [
  {
   "cell_type": "code",
   "execution_count": 1,
   "metadata": {
    "collapsed": false
   },
   "outputs": [],
   "source": [
    "using PlotlyJS"
   ]
  },
  {
   "cell_type": "code",
   "execution_count": 3,
   "metadata": {
    "collapsed": false
   },
   "outputs": [],
   "source": [
    "using Astrodynamics"
   ]
  },
  {
   "cell_type": "markdown",
   "metadata": {},
   "source": [
    "## Timescale Conversions"
   ]
  },
  {
   "cell_type": "code",
   "execution_count": 5,
   "metadata": {
    "collapsed": false
   },
   "outputs": [
    {
     "data": {
      "text/plain": [
       "2016-06-23T14:56:02.000 UTC"
      ]
     },
     "execution_count": 5,
     "metadata": {},
     "output_type": "execute_result"
    }
   ],
   "source": [
    "t = Epoch(UTC, now())"
   ]
  },
  {
   "cell_type": "code",
   "execution_count": 6,
   "metadata": {
    "collapsed": false
   },
   "outputs": [
    {
     "data": {
      "text/plain": [
       "2016-06-23T14:56:38.000 TAI"
      ]
     },
     "execution_count": 6,
     "metadata": {},
     "output_type": "execute_result"
    }
   ],
   "source": [
    "TAIEpoch(t)"
   ]
  },
  {
   "cell_type": "code",
   "execution_count": 7,
   "metadata": {
    "collapsed": false
   },
   "outputs": [],
   "source": [
    "abstract HelgeTime <: UTC"
   ]
  },
  {
   "cell_type": "code",
   "execution_count": 9,
   "metadata": {
    "collapsed": false
   },
   "outputs": [
    {
     "data": {
      "text/plain": [
       "2016-06-23T15:01:02.000 HelgeTime"
      ]
     },
     "execution_count": 9,
     "metadata": {},
     "output_type": "execute_result"
    }
   ],
   "source": [
    "Base.convert(::Type{Epoch{HelgeTime}}, ep::Epoch) = Epoch(HelgeTime, ep.jd, ep.jd1)+EpochDelta(seconds=300)\n",
    "Epoch(HelgeTime, t)"
   ]
  },
  {
   "cell_type": "markdown",
   "metadata": {},
   "source": [
    "### How does this work?"
   ]
  },
  {
   "cell_type": "code",
   "execution_count": 7,
   "metadata": {
    "collapsed": false
   },
   "outputs": [
    {
     "data": {
      "text/plain": [
       "convert (generic function with 1 method)"
      ]
     },
     "execution_count": 7,
     "metadata": {},
     "output_type": "execute_result"
    }
   ],
   "source": [
    "function neighbors(t, root=Any)\n",
    "    super = supertype(t)\n",
    "    if super == root\n",
    "        return subtypes(t)\n",
    "    else\n",
    "        return push!(subtypes(t), super)\n",
    "    end\n",
    "end\n",
    "\n",
    "function findpath(origin, target, root=Any)\n",
    "    queue = [origin]\n",
    "    links = Dict{DataType, DataType}()\n",
    "    while !isempty(queue)\n",
    "        node = shift!(queue)\n",
    "        if node == target\n",
    "            break\n",
    "        end\n",
    "        for n in neighbors(node, root)\n",
    "            # Handle parametric types like IAU{Earth}\n",
    "            if target <: n && isempty(subtypes(n))\n",
    "                n = target\n",
    "            end\n",
    "            if !haskey(links, n)\n",
    "                push!(queue, n)\n",
    "                merge!(links, Dict{DataType, DataType}(n=>node))\n",
    "            end\n",
    "        end\n",
    "    end\n",
    "    if !haskey(links, target)\n",
    "        error(\"No conversion path '$origin' -> '$target' found.\")\n",
    "    end\n",
    "    path = [target]\n",
    "    node = target\n",
    "    while node != origin\n",
    "        push!(path, links[node])\n",
    "        node = links[node]\n",
    "    end\n",
    "    return reverse(path)\n",
    "end\n",
    "\n",
    "@generated function convert{T<:Timescale,S<:Timescale}(::Type{Epoch{T}}, obj::Epoch{S})\n",
    "    ex = :(obj)\n",
    "    path = findpath(S, T, Timescale)\n",
    "    if length(path) == 2\n",
    "        error(\"Please provide a method Base.convert(::Type{Astrodynamics.Epoch{$T}}, ::Astrodynamics.Epoch{$S}).\")\n",
    "    end\n",
    "    for t in path[2:end]\n",
    "        ex = :(convert(Epoch{$t}, $ex))\n",
    "    end\n",
    "    return :($ex)\n",
    "end"
   ]
  },
  {
   "cell_type": "markdown",
   "metadata": {},
   "source": [
    "## State Vector Conversions"
   ]
  },
  {
   "cell_type": "code",
   "execution_count": 10,
   "metadata": {
    "collapsed": false
   },
   "outputs": [
    {
     "data": {
      "text/plain": [
       "State{GCRF,UTC,Earth}:\n",
       " Epoch: 2016-05-30T12:00:00.000 UTC\n",
       " Frame: GCRF\n",
       " Body:  Earth\n",
       "\n",
       " x: 6068.27927\n",
       " y: -1692.84394\n",
       " z: -2516.61918\n",
       " u: -0.660415582\n",
       " v: 5.495938726\n",
       " w: -5.303093232999999\n",
       "\n",
       " a: 6785.028010402155\n",
       " e: 0.0006796598425164399\n",
       " i: 51.698121020902995\n",
       " ω: 146.0217323119771\n",
       " Ω: 130.63072556485514\n",
       " ν: 77.57963290064639"
      ]
     },
     "execution_count": 10,
     "metadata": {},
     "output_type": "execute_result"
    }
   ],
   "source": [
    "r = [\n",
    "6068279.27,\n",
    "-1692843.94,\n",
    "-2516619.18,\n",
    "]/1000\n",
    "\n",
    "v = [\n",
    "-660.415582,\n",
    "5495.938726,\n",
    "-5303.093233,\n",
    "]/1000\n",
    "\n",
    "t = Epoch(UTC, \"2016-05-30T12:00:00.000\")\n",
    "\n",
    "iss = State(t, r, v)"
   ]
  },
  {
   "cell_type": "code",
   "execution_count": 14,
   "metadata": {
    "collapsed": false
   },
   "outputs": [
    {
     "data": {
      "text/plain": [
       "State{IAU{Mars},HelgeTime,Mars}:\n",
       " Epoch: 2016-05-30T12:10:00.000 HelgeTime\n",
       " Frame: IAU{Mars}\n",
       " Body:  Mars\n",
       "\n",
       " x: 1.7487222170069892e7\n",
       " y: 7.152981432775074e7\n",
       " z: 1.5657760507860165e7\n",
       " u: 5076.173883760601\n",
       " v: -1238.169378911845\n",
       " w: -4.00084244230769\n",
       "\n",
       " a: -0.0015687690931150378\n",
       " e: 4.798837581026733e10\n",
       " i: 167.99553565515913\n",
       " ω: 166.4985292021129\n",
       " Ω: 90.21093600719439\n",
       " ν: 0.020321140044021094"
      ]
     },
     "execution_count": 14,
     "metadata": {},
     "output_type": "execute_result"
    }
   ],
   "source": [
    "State(iss, body=Mars, frame=IAU{Mars}, timescale=HelgeTime)"
   ]
  },
  {
   "cell_type": "markdown",
   "metadata": {},
   "source": [
    "## Kepler Propagation"
   ]
  },
  {
   "cell_type": "code",
   "execution_count": 15,
   "metadata": {
    "collapsed": false
   },
   "outputs": [],
   "source": [
    "iss_trajectory = trajectory(iss, Kepler());"
   ]
  },
  {
   "cell_type": "code",
   "execution_count": 16,
   "metadata": {
    "collapsed": false
   },
   "outputs": [
    {
     "ename": "MethodError",
     "evalue": "MethodError: `fd` has no method matching fd(::Base64EncodePipe)",
     "output_type": "error",
     "traceback": [
      "MethodError: `fd` has no method matching fd(::Base64EncodePipe)",
      "",
      " in call at libc.jl:54",
      " in writeimage at /Users/helge/.julia/v0.4/ImageMagick/src/libmagickwand.jl:254",
      " in writemime at /Users/helge/.julia/v0.4/PlotlyJS/src/savefig.jl:212",
      " in base64encode at base64.jl:160",
      " in display_dict at /Users/helge/.julia/v0.4/IJulia/src/execute_request.jl:32"
     ]
    }
   ],
   "source": [
    "plot(iss_trajectory)"
   ]
  },
  {
   "cell_type": "markdown",
   "metadata": {},
   "source": [
    "## ODE Propagation"
   ]
  },
  {
   "cell_type": "code",
   "execution_count": 17,
   "metadata": {
    "collapsed": false
   },
   "outputs": [],
   "source": [
    "iss_spherical = trajectory(iss, ODE());"
   ]
  },
  {
   "cell_type": "code",
   "execution_count": 18,
   "metadata": {
    "collapsed": false
   },
   "outputs": [],
   "source": [
    "iss_j2 = trajectory(iss, EpochDelta(days=7), ODE(gravity=J2Gravity(Earth)));"
   ]
  },
  {
   "cell_type": "code",
   "execution_count": 19,
   "metadata": {
    "collapsed": false
   },
   "outputs": [
    {
     "ename": "MethodError",
     "evalue": "MethodError: `fd` has no method matching fd(::Base64EncodePipe)",
     "output_type": "error",
     "traceback": [
      "MethodError: `fd` has no method matching fd(::Base64EncodePipe)",
      "",
      " in call at libc.jl:54",
      " in writeimage at /Users/helge/.julia/v0.4/ImageMagick/src/libmagickwand.jl:254",
      " in writemime at /Users/helge/.julia/v0.4/PlotlyJS/src/savefig.jl:212",
      " in base64encode at base64.jl:160",
      " in display_dict at /Users/helge/.julia/v0.4/IJulia/src/execute_request.jl:32"
     ]
    }
   ],
   "source": [
    "plot(iss_j2.trajectory)"
   ]
  },
  {
   "cell_type": "code",
   "execution_count": 22,
   "metadata": {
    "collapsed": false
   },
   "outputs": [
    {
     "ename": "LoadError",
     "evalue": "LoadError: Impact detected.\nt=4719.506182430057.\nwhile loading In[22], in expression starting on line 5",
     "output_type": "error",
     "traceback": [
      "LoadError: Impact detected.\nt=4719.506182430057.\nwhile loading In[22], in expression starting on line 5",
      "",
      " in apply! at /Users/helge/.julia/v0.4/Astrodynamics/src/events.jl:96",
      " in detect_abort at /Users/helge/.julia/v0.4/Astrodynamics/src/propagators/ode.jl:173",
      " in handle_events! at /Users/helge/.julia/v0.4/Astrodynamics/src/propagators/ode.jl:200",
      " in handle_events at /Users/helge/.julia/v0.4/Astrodynamics/src/propagators/ode.jl:78",
      " in _solout at /Users/helge/.julia/v0.4/Dopri/src/Dopri.jl:104",
      " in dop853 at /Users/helge/.julia/v0.4/Dopri/src/Dopri.jl:214",
      " in propagate at /Users/helge/.julia/v0.4/Astrodynamics/src/propagators/ode.jl:115",
      " in trajectory at /Users/helge/.julia/v0.4/Astrodynamics/src/propagators/ode.jl:148"
     ]
    }
   ],
   "source": [
    "propagator = ODE(\n",
    "gravity=J2Gravity(Earth),\n",
    "discontinuities=[Discontinuity(PericenterEvent(), ImpulsiveManeuver(along=-1))]\n",
    ")\n",
    "iss_boost = trajectory(iss, SEC_PER_DAY, propagator);"
   ]
  },
  {
   "cell_type": "code",
   "execution_count": 21,
   "metadata": {
    "collapsed": false
   },
   "outputs": [
    {
     "ename": "MethodError",
     "evalue": "MethodError: `fd` has no method matching fd(::Base64EncodePipe)",
     "output_type": "error",
     "traceback": [
      "MethodError: `fd` has no method matching fd(::Base64EncodePipe)",
      "",
      " in call at libc.jl:54",
      " in writeimage at /Users/helge/.julia/v0.4/ImageMagick/src/libmagickwand.jl:254",
      " in writemime at /Users/helge/.julia/v0.4/PlotlyJS/src/savefig.jl:212",
      " in base64encode at base64.jl:160",
      " in display_dict at /Users/helge/.julia/v0.4/IJulia/src/execute_request.jl:32"
     ]
    }
   ],
   "source": [
    "plot(iss_boost.trajectory)"
   ]
  },
  {
   "cell_type": "code",
   "execution_count": null,
   "metadata": {
    "collapsed": true
   },
   "outputs": [],
   "source": []
  }
 ],
 "metadata": {
  "kernelspec": {
   "display_name": "Julia 0.4.5",
   "language": "julia",
   "name": "julia-0.4"
  },
  "language_info": {
   "file_extension": ".jl",
   "mimetype": "application/julia",
   "name": "julia",
   "version": "0.4.5"
  },
  "widgets": {
   "state": {},
   "version": "1.1.1"
  }
 },
 "nbformat": 4,
 "nbformat_minor": 0
}
